{
 "cells": [
  {
   "cell_type": "code",
   "execution_count": 1,
   "id": "aebddb79-95b3-4ece-8ae3-a27c12e3182a",
   "metadata": {},
   "outputs": [],
   "source": [
    "import pandas as pd\n",
    "import numpy as np\n",
    "from sklearn.model_selection import train_test_split\n",
    "from sklearn.feature_extraction.text import TfidfVectorizer\n",
    "from sklearn.naive_bayes import MultinomialNB\n",
    "from sklearn.linear_model import LogisticRegression\n",
    "from sklearn.metrics import precision_score, recall_score, f1_score\n",
    "import tensorflow as tf\n",
    "from tensorflow.keras.preprocessing.text import Tokenizer\n",
    "from tensorflow.keras.preprocessing.sequence import pad_sequences\n",
    "from tensorflow.keras.models import Sequential\n",
    "from tensorflow.keras.layers import Embedding, LSTM, Dense\n",
    "import os"
   ]
  },
  {
   "cell_type": "code",
   "execution_count": 2,
   "id": "dacfe6e0-0b6d-4013-91be-47d7912732ce",
   "metadata": {},
   "outputs": [],
   "source": [
    "df = pd.read_csv('Downloads/IMDB Dataset.csv')\n",
    "X = df['review']\n",
    "y = df['sentiment'].map({'positive': 1, 'negative': 0})"
   ]
  },
  {
   "cell_type": "code",
   "execution_count": 3,
   "id": "b21f38ec-e884-4fe9-b32d-35ed9e161c91",
   "metadata": {},
   "outputs": [],
   "source": [
    "# Split the data\n",
    "X_train, X_test, y_train, y_test = train_test_split(X, y, test_size=0.2, random_state=42)"
   ]
  },
  {
   "cell_type": "code",
   "execution_count": 4,
   "id": "99fd67a2-7a73-4fbc-b9f2-bbf425578cfb",
   "metadata": {},
   "outputs": [],
   "source": [
    "# Text Preprocessing for Classical Models\n",
    "tfidf = TfidfVectorizer(max_features=5000, stop_words='english')  # Stopword removal and vectorization\n",
    "X_train_tfidf = tfidf.fit_transform(X_train)\n",
    "X_test_tfidf = tfidf.transform(X_test)"
   ]
  },
  {
   "cell_type": "code",
   "execution_count": 5,
   "id": "55a2468d-b566-4641-87e7-a5588c7fe5e6",
   "metadata": {},
   "outputs": [],
   "source": [
    "# Text Preprocessing for LSTM\n",
    "max_words = 5000\n",
    "max_len = 100\n",
    "tokenizer = Tokenizer(num_words=max_words)  # Tokenization\n",
    "tokenizer.fit_on_texts(X_train)\n",
    "X_train_seq = tokenizer.texts_to_sequences(X_train)\n",
    "X_test_seq = tokenizer.texts_to_sequences(X_test)\n",
    "X_train_pad = pad_sequences(X_train_seq, maxlen=max_len)  # Padding\n",
    "X_test_pad = pad_sequences(X_test_seq, maxlen=max_len)"
   ]
  },
  {
   "cell_type": "code",
   "execution_count": 6,
   "id": "cfef9dab-e16f-410a-9023-e69bcd559458",
   "metadata": {},
   "outputs": [],
   "source": [
    "# Naive Bayes\n",
    "nb_model = MultinomialNB()\n",
    "nb_model.fit(X_train_tfidf, y_train)\n",
    "nb_pred = nb_model.predict(X_test_tfidf)"
   ]
  },
  {
   "cell_type": "code",
   "execution_count": 7,
   "id": "f0854804-931a-4584-939d-c89e416a4b4b",
   "metadata": {},
   "outputs": [],
   "source": [
    "# Logistic Regression\n",
    "lr_model = LogisticRegression(max_iter=1000)\n",
    "lr_model.fit(X_train_tfidf, y_train)\n",
    "lr_pred = lr_model.predict(X_test_tfidf)"
   ]
  },
  {
   "cell_type": "code",
   "execution_count": 8,
   "id": "a68dc6c6-5f2f-4151-ac45-b195e8763bd3",
   "metadata": {},
   "outputs": [],
   "source": [
    "# LSTM Model\n",
    "lstm_model = Sequential()\n",
    "lstm_model.add(Embedding(max_words, 32))  # Removed input_length\n",
    "lstm_model.add(LSTM(100))\n",
    "lstm_model.add(Dense(1, activation='sigmoid'))\n",
    "lstm_model.compile(optimizer='adam', loss='binary_crossentropy', metrics=['accuracy'])"
   ]
  },
  {
   "cell_type": "code",
   "execution_count": 9,
   "id": "564b9f26-4a6a-4d79-aa22-62fa9e5b23da",
   "metadata": {},
   "outputs": [],
   "source": [
    "import time"
   ]
  },
  {
   "cell_type": "code",
   "execution_count": 11,
   "id": "72631b3e-6469-4e08-9856-36b9833e7345",
   "metadata": {},
   "outputs": [
    {
     "name": "stdout",
     "output_type": "stream",
     "text": [
      "Epoch 1/5\n",
      "\u001b[1m1250/1250\u001b[0m \u001b[32m━━━━━━━━━━━━━━━━━━━━\u001b[0m\u001b[37m\u001b[0m \u001b[1m28s\u001b[0m 22ms/step - accuracy: 0.7473 - loss: 0.4859 - val_accuracy: 0.8505 - val_loss: 0.3500\n",
      "Epoch 2/5\n",
      "\u001b[1m1250/1250\u001b[0m \u001b[32m━━━━━━━━━━━━━━━━━━━━\u001b[0m\u001b[37m\u001b[0m \u001b[1m28s\u001b[0m 22ms/step - accuracy: 0.8796 - loss: 0.2889 - val_accuracy: 0.8665 - val_loss: 0.3123\n",
      "Epoch 3/5\n",
      "\u001b[1m1250/1250\u001b[0m \u001b[32m━━━━━━━━━━━━━━━━━━━━\u001b[0m\u001b[37m\u001b[0m \u001b[1m28s\u001b[0m 22ms/step - accuracy: 0.9012 - loss: 0.2436 - val_accuracy: 0.8702 - val_loss: 0.3069\n",
      "Epoch 4/5\n",
      "\u001b[1m1250/1250\u001b[0m \u001b[32m━━━━━━━━━━━━━━━━━━━━\u001b[0m\u001b[37m\u001b[0m \u001b[1m28s\u001b[0m 22ms/step - accuracy: 0.9191 - loss: 0.2051 - val_accuracy: 0.8685 - val_loss: 0.3133\n",
      "Epoch 5/5\n",
      "\u001b[1m1250/1250\u001b[0m \u001b[32m━━━━━━━━━━━━━━━━━━━━\u001b[0m\u001b[37m\u001b[0m \u001b[1m27s\u001b[0m 22ms/step - accuracy: 0.9350 - loss: 0.1680 - val_accuracy: 0.8672 - val_loss: 0.3269\n"
     ]
    }
   ],
   "source": [
    "# TensorBoard callback\n",
    "log_dir = \"logs/fit/\" + time.strftime(\"%Y%m%d-%H%M%S\")  # Use time.strftime for a unique directory name\n",
    "tensorboard_callback = tf.keras.callbacks.TensorBoard(log_dir=log_dir, histogram_freq=1)\n",
    "\n",
    "# Train LSTM\n",
    "history = lstm_model.fit(X_train_pad, y_train, validation_data=(X_test_pad, y_test),\n",
    "                        epochs=5, batch_size=32, callbacks=[tensorboard_callback])"
   ]
  },
  {
   "cell_type": "code",
   "execution_count": 14,
   "id": "a395f33a-ae73-4db6-b1b6-28e96a0b8cac",
   "metadata": {},
   "outputs": [],
   "source": [
    "# Evaluate Classical Models\n",
    "nb_metrics = {\n",
    "    'precision': precision_score(y_test, nb_pred),\n",
    "    'recall': recall_score(y_test, nb_pred),\n",
    "    'f1': f1_score(y_test, nb_pred)\n",
    "}\n",
    "lr_metrics = {\n",
    "    'precision': precision_score(y_test, lr_pred),\n",
    "    'recall': recall_score(y_test, lr_pred),\n",
    "    'f1': f1_score(y_test, lr_pred)\n",
    "}"
   ]
  },
  {
   "cell_type": "code",
   "execution_count": 15,
   "id": "83416aea-1e62-400f-8b2b-16d530e4208a",
   "metadata": {},
   "outputs": [
    {
     "name": "stdout",
     "output_type": "stream",
     "text": [
      "\u001b[1m313/313\u001b[0m \u001b[32m━━━━━━━━━━━━━━━━━━━━\u001b[0m\u001b[37m\u001b[0m \u001b[1m2s\u001b[0m 6ms/step\n"
     ]
    }
   ],
   "source": [
    "# Evaluate LSTM\n",
    "lstm_pred = (lstm_model.predict(X_test_pad) > 0.5).astype(int)\n",
    "lstm_metrics = {\n",
    "    'precision': precision_score(y_test, lstm_pred),\n",
    "    'recall': recall_score(y_test, lstm_pred),\n",
    "    'f1': f1_score(y_test, lstm_pred)\n",
    "}"
   ]
  },
  {
   "cell_type": "code",
   "execution_count": 16,
   "id": "56531e8f-2ff8-4084-baea-54418c67badc",
   "metadata": {},
   "outputs": [
    {
     "name": "stdout",
     "output_type": "stream",
     "text": [
      "Naive Bayes Metrics: {'precision': 0.8513460015835312, 'recall': 0.8535423695177614, 'f1': 0.8524427707858487}\n",
      "Logistic Regression Metrics: {'precision': 0.8780065422359054, 'recall': 0.9055368128596943, 'f1': 0.891559202813599}\n",
      "LSTM Metrics: {'precision': 0.8488437676254935, 'recall': 0.8960111133161341, 'f1': 0.8717899208341379}\n"
     ]
    }
   ],
   "source": [
    "print(\"Naive Bayes Metrics:\", nb_metrics)\n",
    "print(\"Logistic Regression Metrics:\", lr_metrics)\n",
    "print(\"LSTM Metrics:\", lstm_metrics)"
   ]
  },
  {
   "cell_type": "code",
   "execution_count": 17,
   "id": "355da3b5-efa8-4775-945a-3842d6055d35",
   "metadata": {},
   "outputs": [],
   "source": [
    "# Save results\n",
    "with open('results.txt', 'w') as f:\n",
    "    f.write(f\"Naive Bayes Metrics: {nb_metrics}\\n\")\n",
    "    f.write(f\"Logistic Regression Metrics: {lr_metrics}\\n\")\n",
    "    f.write(f\"LSTM Metrics: {lstm_metrics}\\n\")"
   ]
  },
  {
   "cell_type": "code",
   "execution_count": 18,
   "id": "b9ca0776-cc36-4fec-8ba7-9ac138df8dd1",
   "metadata": {},
   "outputs": [
    {
     "data": {
      "text/html": [
       "\n",
       "      <iframe id=\"tensorboard-frame-82c75c906e47cef6\" width=\"100%\" height=\"800\" frameborder=\"0\">\n",
       "      </iframe>\n",
       "      <script>\n",
       "        (function() {\n",
       "          const frame = document.getElementById(\"tensorboard-frame-82c75c906e47cef6\");\n",
       "          const url = new URL(\"/\", window.location);\n",
       "          const port = 6006;\n",
       "          if (port) {\n",
       "            url.port = port;\n",
       "          }\n",
       "          frame.src = url;\n",
       "        })();\n",
       "      </script>\n",
       "    "
      ],
      "text/plain": [
       "<IPython.core.display.HTML object>"
      ]
     },
     "metadata": {},
     "output_type": "display_data"
    }
   ],
   "source": [
    "%load_ext tensorboard\n",
    "%tensorboard --logdir logs/fit"
   ]
  },
  {
   "cell_type": "code",
   "execution_count": null,
   "id": "22411a4f-ffc2-430d-bb38-b053de31b067",
   "metadata": {},
   "outputs": [],
   "source": []
  },
  {
   "cell_type": "code",
   "execution_count": null,
   "id": "31efe1a2-0e3e-4e02-b326-df809ae4a67d",
   "metadata": {},
   "outputs": [],
   "source": []
  }
 ],
 "metadata": {
  "kernelspec": {
   "display_name": "base",
   "language": "python",
   "name": "python3"
  },
  "language_info": {
   "codemirror_mode": {
    "name": "ipython",
    "version": 3
   },
   "file_extension": ".py",
   "mimetype": "text/x-python",
   "name": "python",
   "nbconvert_exporter": "python",
   "pygments_lexer": "ipython3",
   "version": "3.12.7"
  }
 },
 "nbformat": 4,
 "nbformat_minor": 5
}
